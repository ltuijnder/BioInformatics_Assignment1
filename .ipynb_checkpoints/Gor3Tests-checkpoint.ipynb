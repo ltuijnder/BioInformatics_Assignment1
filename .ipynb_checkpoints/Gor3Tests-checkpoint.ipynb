{
 "cells": [
  {
   "cell_type": "markdown",
   "metadata": {},
   "source": [
    "Test is a test notebook where I develop the GOR3 algorithm."
   ]
  },
  {
   "cell_type": "markdown",
   "metadata": {},
   "source": [
    "Things to do:\n",
    "\n",
    "- The first thing we should do is import the data and clean the data to make it ready for use. \n",
    "- Understand the GOR 3 Algorithm\n",
    "- Understand how we should deal with edges \n",
    "- Understand what we need to do with invalid entries and how we deal with it in algorithm\n",
    "- Understand how we should make it optimised leave-one-out. (don't recount everything with every new protein sequence).\n",
    "- How to summarise the results of the GOR3 (per data set)\n",
    "- How to summarise the results per protein family.\n"
   ]
  },
  {
   "cell_type": "code",
   "execution_count": 1,
   "metadata": {},
   "outputs": [],
   "source": [
    "import numpy as np"
   ]
  },
  {
   "cell_type": "code",
   "execution_count": 202,
   "metadata": {},
   "outputs": [],
   "source": [
    "# Algorithm to evaluate a protein. \n",
    "# Create a random protein sequence. Where the amino acids are code between 0,20\n",
    "Proteins = np.random.randint(3,size=100)\n",
    "SeqLen = len(Proteins)"
   ]
  },
  {
   "cell_type": "code",
   "execution_count": 203,
   "metadata": {},
   "outputs": [],
   "source": [
    "# Add some invalid entries and pad the sides with -1's which represent the edges.\n",
    "Proteins[[15,74,87]] = -1 \n",
    "#Proteins = np.concatenate((-np.ones(8),Proteins,-np.ones(8))).astype(int)"
   ]
  },
  {
   "cell_type": "code",
   "execution_count": 188,
   "metadata": {},
   "outputs": [],
   "source": [
    "# Create for now a dummy frequency tensor:\n",
    "freq = np.ones(shape=(3,17,3,3),dtype=float)\n",
    "freq[0,8,0,0] = 7\n",
    "freq[0,8,1,1] = 10\n",
    "freq[0,8,2,2] = 13\n",
    "freq[1,8,0,0] = 70\n",
    "freq[1,8,1,1] = 100\n",
    "freq[1,8,2,2] = 130\n",
    "\n",
    "\n",
    "CountSSperR = np.ones(shape=(3,20))\n",
    "CountSS = np.sum(CountSSperR,-1)\n",
    "otherSS = np.array([[1,2],[0,2],[0,1]]) # Have the index of the other Secundary Structure such that we can sum of the other SS\n",
    "logDiff = np.log(CountSS/np.sum(CountSS[otherSS],axis=-1))\n",
    "logDiffRj = np.log(CountSSperR/np.sum(CountSSperR[otherSS],axis=-2)) # -2 since -1 are the amino acids"
   ]
  },
  {
   "cell_type": "code",
   "execution_count": 208,
   "metadata": {},
   "outputs": [
    {
     "data": {
      "text/plain": [
       "array([ 1,  2,  0,  2,  2,  1,  0,  2,  2,  0,  1,  1,  0,  2,  1, -1,  2,\n",
       "        0,  1,  0,  2,  2,  0,  1,  0,  2,  1,  2,  1,  1,  2,  0,  0,  1,\n",
       "        1,  1,  2,  2,  1,  1,  2,  2,  1,  0,  1,  2,  1,  1,  1,  0,  1,\n",
       "        2,  0,  2,  0,  2,  2,  2,  0,  1,  1,  0,  2,  1,  0,  2,  0,  1,\n",
       "        1,  0,  2,  1,  2,  2, -1,  1,  2,  1,  1,  2,  2,  1,  1,  1,  2,\n",
       "        1,  2, -1,  1,  1,  2,  1,  2,  0,  0,  0,  2,  1,  0,  0])"
      ]
     },
     "execution_count": 208,
     "metadata": {},
     "output_type": "execute_result"
    }
   ],
   "source": [
    "Proteins"
   ]
  },
  {
   "cell_type": "code",
   "execution_count": 190,
   "metadata": {},
   "outputs": [
    {
     "data": {
      "text/plain": [
       "array([20., 20., 20.])"
      ]
     },
     "execution_count": 190,
     "metadata": {},
     "output_type": "execute_result"
    }
   ],
   "source": [
    "CountSS"
   ]
  },
  {
   "cell_type": "code",
   "execution_count": 169,
   "metadata": {},
   "outputs": [
    {
     "ename": "IndexError",
     "evalue": "index 8 is out of bounds for axis 2 with size 3",
     "output_type": "error",
     "traceback": [
      "\u001b[0;31m---------------------------------------------------------------------------\u001b[0m",
      "\u001b[0;31mIndexError\u001b[0m                                Traceback (most recent call last)",
      "\u001b[0;32m<ipython-input-169-6849e0d7a39a>\u001b[0m in \u001b[0;36m<module>\u001b[0;34m\u001b[0m\n\u001b[1;32m      3\u001b[0m \u001b[0mvseq\u001b[0m \u001b[0;34m=\u001b[0m \u001b[0mseq\u001b[0m\u001b[0;34m[\u001b[0m\u001b[0mvalid\u001b[0m\u001b[0;34m]\u001b[0m\u001b[0;34m\u001b[0m\u001b[0;34m\u001b[0m\u001b[0m\n\u001b[1;32m      4\u001b[0m \u001b[0mmCorrect\u001b[0m \u001b[0;34m=\u001b[0m \u001b[0mnp\u001b[0m\u001b[0;34m.\u001b[0m\u001b[0mwhere\u001b[0m\u001b[0;34m(\u001b[0m\u001b[0mvalid\u001b[0m\u001b[0;34m)\u001b[0m\u001b[0;34m[\u001b[0m\u001b[0;36m0\u001b[0m\u001b[0;34m]\u001b[0m\u001b[0;34m\u001b[0m\u001b[0;34m\u001b[0m\u001b[0m\n\u001b[0;32m----> 5\u001b[0;31m \u001b[0mfreq\u001b[0m\u001b[0;34m[\u001b[0m\u001b[0;36m0\u001b[0m\u001b[0;34m,\u001b[0m\u001b[0mmCorrect\u001b[0m\u001b[0;34m,\u001b[0m\u001b[0mvseq\u001b[0m\u001b[0;34m,\u001b[0m\u001b[0;36m0\u001b[0m\u001b[0;34m]\u001b[0m\u001b[0;34m\u001b[0m\u001b[0;34m\u001b[0m\u001b[0m\n\u001b[0m",
      "\u001b[0;31mIndexError\u001b[0m: index 8 is out of bounds for axis 2 with size 3"
     ]
    }
   ],
   "source": [
    "valid = np.array([0,0,0,0,0,0,0,0,1,1,1,1,1,1,1,1,1]).astype(bool)\n",
    "seq = np.arange(17)\n",
    "vseq = seq[valid]\n",
    "mCorrect = np.where(valid)[0]\n",
    "freq[0,mCorrect,vseq,0]"
   ]
  },
  {
   "cell_type": "code",
   "execution_count": 196,
   "metadata": {},
   "outputs": [
    {
     "name": "stdout",
     "output_type": "stream",
     "text": [
      "Yes\n"
     ]
    }
   ],
   "source": [
    "testarray = np.array([4,8,7])\n",
    "if 8 in testarray:\n",
    "    print(\"Yes\")"
   ]
  },
  {
   "cell_type": "code",
   "execution_count": 220,
   "metadata": {},
   "outputs": [
    {
     "name": "stdout",
     "output_type": "stream",
     "text": [
      "45.34 seconds\n"
     ]
    }
   ],
   "source": [
    "import time\n",
    "startTime = time.time()\n",
    "for i in range(500):\n",
    "    out = predictSS(Proteins,freq,logDiff,logDiffRj)\n",
    "Diff = time.time() - startTime\n",
    "print(f\"{np.round(Diff,2)} seconds\")"
   ]
  },
  {
   "cell_type": "code",
   "execution_count": 219,
   "metadata": {},
   "outputs": [],
   "source": [
    "def predictSS(protSequence,freq,logDiff,logDiffRj):\n",
    "    \"\"\"\n",
    "    Input:\n",
    "        - protSequence : 1D-numpy array, Represents the proteins sequence, where the aminoacids are labeled as integers from 0 to 19\n",
    "        - freq : 4D-numpy array shape = (3,17,20,20) representing the frequency count of the data set.\n",
    "            - axis0 = Secundary structure\n",
    "            - axis1 = relative position m from the window center positioned at j in the protein sequence\n",
    "            - axis2 = amino Acid at the position m. = R_{j+m}\n",
    "            - axis3 = amino Acid at the centre. = R_j\n",
    "        - logDiff: 1D-numpy array of length 3. This is the logarithm of the relative SS structure count: log(f_s/f_{not_s})\n",
    "        - logDiffRj: 2D-numpy array of shape (3,20). This is the logarithm of the relative SS structure count per amino accid: log(f_{s,R}/f_{not_s,R})\n",
    "    \n",
    "    Output:\n",
    "        - SS_result: 1D-numpy array with the predicted SS of the protein sequence\n",
    "        - ISS: 2D-numpy array with the information per SS per amino accid in the protein sequence.\n",
    "        \n",
    "    \"\"\"\n",
    "    # Add 8 \"-1\"'s at the beginning and end of the protein sequence. \n",
    "    # This is done such that we can have running window of lenght 8 at each side at the edges of the protein sequences. \n",
    "    # Use -1 since we offcourse vieuw these as invalid entries.\n",
    "    paddedSequence = np.concatenate((-np.ones(8),protSequence,-np.ones(8))).astype(int)\n",
    "    SeqLen = len(protSequence)\n",
    "    \n",
    "    # Construct the output value ISS\n",
    "    ISS = -np.ones(shape=(3,SeqLen)) # use -1 to later on detect invalid entries in the protein sequence.\n",
    "    \n",
    "    for j, r_j in enumerate(paddedSequence):\n",
    "        if j-8 > SeqLen: # We have reached the end.\n",
    "            break\n",
    "        if r_j<0: # We skip over invalid entries. (These are the padded edges and invalid entries)\n",
    "            continue\n",
    "        # r_j is valid so set the ISS level equalt to zero. Unvalid r_j are kept -1\n",
    "        ISS[:,j-8] = np.zeros(3)             \n",
    "        for SS in range(3):\n",
    "            for m, r_jm in enumerate(Proteins[j-8:j+9]): # m in [0,16],\n",
    "                if r_jm<0:\n",
    "                    continue\n",
    "                # Compute the logSum\n",
    "                ISS[SS,j-8] += np.log(freq[SS,m,r_jm,r_j]/np.sum(freq[otherSS[SS],m,r_jm,r_j]))\n",
    "                if m==8: \n",
    "                    ISS[SS,j-8] += logDiff[SS]\n",
    "                else:\n",
    "                    ISS[SS,j-8] += logDiffRj[SS,r_j]\n",
    "\n",
    "    SS_result = np.argmax(ISS,axis=0)\n",
    "\n",
    "    ###################################################\n",
    "    ##### Deal with invalid amino acid entries ######\n",
    "    ##################################################\n",
    "\n",
    "    InvalidIndex = np.where(ISS[0]==-1)[0]\n",
    "    for index in InvalidIndex:\n",
    "        if index == 0: # The invalid is the first element\n",
    "            indexToCopy = 1\n",
    "            indexIsNotValid = np.any(Invalidindex==indexToCopy)\n",
    "            while indexIsNotValid: # Keep searching until we are sure that the next index is also not an invalid one. \n",
    "                indexToCopy+=1\n",
    "                nextIsValid = np.any(InvalidIndex==indexToCopy)\n",
    "            SS_result[index] = SS_result[indexToCopy] # Set it equal to the first valid element. \n",
    "        else: # In all other cases we pick the one below \n",
    "            SS_result[index] = SS_result[index-1]\n",
    "        # The reason why we pick the one is clarified by the logic that we would have else used:\n",
    "\n",
    "#       elif (index-1)==SeqLen # The invalid index is the last element\n",
    "#           SS_result[index] = SS_result[index-1] # Set equal to the element before.\n",
    "#       elif SS_result[index-1]==SS_result[index+1] # SS around in valid point is the same\n",
    "#           SS_result[index] = SS_result[index-1]\n",
    "#       else: # By default just pick the one below, this way we are sure the entry exist. \n",
    "#           SS_result[index]=SS_result[index-1] \n",
    "\n",
    "        # And so in all other cases it would have been pick the one below so. We can just simplify it with an easy else. \n",
    "\n",
    "    return SS_result, ISS # Return the found SS and the information values."
   ]
  },
  {
   "cell_type": "markdown",
   "metadata": {},
   "source": [
    "------\n",
    "Left to do now is reading in the data file and computing the frequency tables."
   ]
  },
  {
   "cell_type": "code",
   "execution_count": 247,
   "metadata": {},
   "outputs": [],
   "source": [
    "def freqTableOfProtein(protSequence,SS):\n",
    "    \"\"\"\n",
    "    Input:\n",
    "        - protSequence : 1D-numpy array, Represents the proteins sequence, where the aminoacids are labeled as integers from 0 to 19\n",
    "        - SS : 1D-numpy array holding the know secundary structure of the \n",
    "    Output:\n",
    "    - freq : 4D-numpy array shape = (3,17,20,20) representing the frequency count of the protein sequence.\n",
    "            - axis0 = Secundary structure\n",
    "            - axis1 = relative position m from the window center positioned at j in the protein sequence\n",
    "            - axis2 = amino Acid at the position m. = R_{j+m}\n",
    "            - axis3 = amino Acid at the centre. = R_j\n",
    "    - freq :\n",
    "    \"\"\"\n",
    "    freqTable = np.zeros(shape=(3,17,20,20))\n",
    "    \n",
    "    # Pad the sequence with 8 -1's before and after such that we can easily perform move a window around. \n",
    "    paddedSequence = np.concatenate((-np.ones(8),protSequence,-np.ones(8))).astype(int)\n",
    "    paddedSS = np.concatenate((-np.ones(8),SS,-np.ones(8))).astype(int)\n",
    "    \n",
    "    seqLen = len(protSequence)\n",
    "    \n",
    "    #Fill freqTable\n",
    "    for j, (r_j, S_j) in enumerate(zip(paddedSequence,paddedSS)):\n",
    "        if j-8 > SeqLen: # We have reached the end.\n",
    "            break\n",
    "        if r_j<0: # We skip over invalid entries. (These are the padded edges and invalid entries)\n",
    "            continue\n",
    "        for m in np.arange(-8,9):#  m=[-8,...,8]\n",
    "            r_jm = paddedSequence[j+m]\n",
    "            if r_jm<0:\n",
    "                continue\n",
    "            freqTable[S_j,m+8,r_jm,r_j]+=1\n",
    "            \n",
    "    countSSperR = np.zeros()\n",
    "    \n",
    "    ##### THIS IS NOT FINISHED!!! ####\n",
    "    \n",
    "    #return freqTable, countSS, countSSperR"
   ]
  },
  {
   "cell_type": "code",
   "execution_count": 252,
   "metadata": {},
   "outputs": [
    {
     "data": {
      "text/plain": [
       "array([1, 1, 1, 1, 1, 1, 1, 1, 1, 1, 1, 1, 1, 1, 1, 1, 1, 1, 1, 1])"
      ]
     },
     "execution_count": 252,
     "metadata": {},
     "output_type": "execute_result"
    }
   ],
   "source": [
    "testSeq = np.arange(20)\n",
    "testSS = np.ones(len(testSeq))\n",
    "np.unique(testSeq,return_counts=True)[1]"
   ]
  },
  {
   "cell_type": "code",
   "execution_count": null,
   "metadata": {},
   "outputs": [],
   "source": [
    "def leaveOneOutAnalysis(dataSet = \"dssp\", protFamily = None):\n",
    "    \"\"\"\n",
    "        Estimate the Q3 and CVV of the GOR method for a specific dataset using a crossvalidation of leave-one-out\n",
    "    \"\"\"\n",
    "    totalFreqTable = np.zeros(shape=(3,17,20,20))\n",
    "    totalCountSS = np.zeros(3)\n",
    "    totalCountSSperR = np.zeros(shape=(3,20))\n",
    "    otherSS = np.array([[1,2],[0,2],[0,1]]) # Have the index of the other Secundary Structure such that we can sum of the other SS\n",
    "    \n",
    "    # Select the correct proteinTuple based on dssp protFamily\n",
    "    \n",
    "    #First compute the full freqTable\n",
    "    for proteinSequence, trueSS in proteinTuple:\n",
    "        freqTableFromProt, countSSFromProt, countSSperRFromProt = freqTableOfProtein(proteinSequence, trueSS)\n",
    "        totalFreqTable += freqTableFromProt\n",
    "        totalCountSS += countSSFromProt\n",
    "        totalCountSSperR += countSSperRFromProt\n",
    "        \n",
    "    \n",
    "    numberProteins = len(AllProteins)\n",
    "    \n",
    "    Q3 = np.zeros(shape=(3,number))\n",
    "    CVV = np.zeros(shape=(3,number))\n",
    "    \n",
    "    # Now do the leave-one-out:\n",
    "    for i, (proteinSequence, trueSS) in enumerate(proteinTuple):\n",
    "        # Remove the frequency counts of this protein.\n",
    "        freqTableFromProt, countSSFromProt, countSSperRFromProt = freqTableOfProtein(proteinSequence, trueSS)\n",
    "        tempFreqTable = totalFreqTable - freqTableFromProt\n",
    "        tempCountSS = totalCountSS - countSSFromProt\n",
    "        tempCountSSperR = totalCountSSperR - countSSperRFromProt\n",
    "        \n",
    "        templogDiff = np.log(tempCountSS/np.sum(tempCountSS[otherSS],axis=-1))\n",
    "        templogDiffRj = np.log(tempCountSSperR/np.sum(tempCountSSperR[otherSS],axis=-2)) # -2 since -1 are the amino acids\n",
    "        \n",
    "        # Set Frequency that are equal to zero = 0.00001 inorder to avoid infinities.\n",
    "        tempFreqTable[tempFreqTable = 0] = 0.00001\n",
    "        \n",
    "        # Perform the GOR3 prediction.\n",
    "        SS_result, _ = predictSS(proteinSequence, tempFreqTable, templogDiff, templogDiffRj)\n",
    "        \n",
    "        Q3[i] = proteinQ3(SS_result, trueSS)\n",
    "        CVV[i] = proteinCVV(SS_result, trueSS)\n",
    "    \n",
    "    return Q3, CVV"
   ]
  },
  {
   "cell_type": "code",
   "execution_count": 228,
   "metadata": {},
   "outputs": [],
   "source": [
    "def proteinQ3(predictedSS, trueSS):\n",
    "    _, (numberHelix, numberSheet, numberCoil) = np.unique(trueSS, return_counts=True)\n",
    "    TPHelix = np.sum(np.logical_and(predictedSS==0, trueSS==0)) #Only look where trueSS = Helix, see if they are then equal.\n",
    "    TPSheet = np.sum(np.logical_and(predictedSS==1, trueSS==1))\n",
    "    TPCoil =  np.sum(np.logical_and(predictedSS==2, trueSS==2))\n",
    "    return np.array([TPHelix/numberHelix, TPSheet/numberSheet, TPCoil/numberCoil])\n",
    "\n",
    "def computeCVV(TP,TN,FP,FN):\n",
    "    numerator = TP*TN-FP*FN\n",
    "    denominator = np.sqrt((TP+FP) * (TP+FN) * (TN+FP) * (TN+FN))\n",
    "    return numerator/denominator\n",
    "\n",
    "def proteinCVV(predictedSS, trueSS):\n",
    "    #Helix\n",
    "    TPHelix = np.sum(np.logical_and(predictedSS==0, trueSS==0))\n",
    "    TNHelix = np.sum(np.logical_and(predictedSS!=0, trueSS!=0))\n",
    "    FPHelix = np.sum(np.logical_and(predictedSS==0, trueSS!=0))\n",
    "    FNHelix = np.sum(np.logical_and(predictedSS!=0, trueSS==0))\n",
    "    CVVHelix = computeCVV(TPHelix,TNHelix,FPHelix,FNHelix)\n",
    "    #Sheet\n",
    "    TPSheet = np.sum(np.logical_and(predictedSS==1, trueSS==1))\n",
    "    TNSheet = np.sum(np.logical_and(predictedSS!=1, trueSS!=1))\n",
    "    FPSheet = np.sum(np.logical_and(predictedSS==1, trueSS!=1))\n",
    "    FNSheet = np.sum(np.logical_and(predictedSS!=1, trueSS==1))\n",
    "    CVVSheet = computeCVV(TPSheet,TNSheet,FPSheet,FNSheet)\n",
    "    #Coil\n",
    "    TPCoil = np.sum(np.logical_and(predictedSS==2, trueSS==2))\n",
    "    TNCoil = np.sum(np.logical_and(predictedSS!=2, trueSS!=2))\n",
    "    FPCoil = np.sum(np.logical_and(predictedSS==2, trueSS!=2))\n",
    "    FNCoil = np.sum(np.logical_and(predictedSS!=2, trueSS==2))\n",
    "    CVVCoil = computeCVV(TPCoil,TNCoil,FPCoil,FNCoil)\n",
    "    return np.array([CVVHelix, CVVSheet, CVVCoil])"
   ]
  }
 ],
 "metadata": {
  "kernelspec": {
   "display_name": "Python 3",
   "language": "python",
   "name": "python3"
  },
  "language_info": {
   "codemirror_mode": {
    "name": "ipython",
    "version": 3
   },
   "file_extension": ".py",
   "mimetype": "text/x-python",
   "name": "python",
   "nbconvert_exporter": "python",
   "pygments_lexer": "ipython3",
   "version": "3.6.8"
  }
 },
 "nbformat": 4,
 "nbformat_minor": 4
}
