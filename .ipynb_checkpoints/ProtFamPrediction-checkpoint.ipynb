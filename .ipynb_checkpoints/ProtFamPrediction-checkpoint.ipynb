{
 "cells": [
  {
   "cell_type": "markdown",
   "metadata": {},
   "source": [
    "Test is a test notebook where I develop the prediction of the Family.\n",
    "\n",
    "As input it takes the output of the GOR3 algorithm. \n",
    "\n",
    "Things to do:\n",
    "   \n",
    "- Make a classifier that is trained with input data DSSP and STRIDE and tested on it.\n",
    "    - Do this whole thing seperate from the GOR3 algorithm. Ok in th end we will also classify proteins on which it was already trained. But it simply to compute intensive to again train at every protein. So have the classifier already trained and ready. (This is actually not correct).. (think about it)\n",
    "    - Look into how we can compare different length proteins. I think the best approach is to get a few summarising values out if it. and then construct a very simple classifier. NNN or descision tree. \n",
    "- Do make an comparison between accuracy on its trained data set. And that when the GOR3 algorithm is applied.\n",
    "\n",
    "    \n",
    "    "
   ]
  },
  {
   "cell_type": "code",
   "execution_count": null,
   "metadata": {},
   "outputs": [],
   "source": []
  }
 ],
 "metadata": {
  "kernelspec": {
   "display_name": "Python 3",
   "language": "python",
   "name": "python3"
  },
  "language_info": {
   "codemirror_mode": {
    "name": "ipython",
    "version": 3
   },
   "file_extension": ".py",
   "mimetype": "text/x-python",
   "name": "python",
   "nbconvert_exporter": "python",
   "pygments_lexer": "ipython3",
   "version": "3.6.8"
  }
 },
 "nbformat": 4,
 "nbformat_minor": 4
}
