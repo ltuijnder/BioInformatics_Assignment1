{
 "cells": [
  {
   "cell_type": "markdown",
   "metadata": {},
   "source": [
    "Test is a test notebook where I develop the prediction of the Family.\n",
    "\n",
    "As input it takes the output of the GOR3 algorithm. \n",
    "\n",
    "Things to do:\n",
    "   \n",
    "- Make a classifier that is trained with input data DSSP and STRIDE and tested on it.\n",
    "    - Do this whole thing seperate from the GOR3 algorithm. Ok in th end we will also classify proteins on which it was already trained. But it simply to compute intensive to again train at every protein. So have the classifier already trained and ready. (This is actually not correct).. (think about it)\n",
    "    - Look into how we can compare different length proteins. I think the best approach is to get a few summarising values out if it. and then construct a very simple classifier. NNN or descision tree. \n",
    "- Do make an comparison between accuracy on its trained data set. And that when the GOR3 algorithm is applied.\n",
    "\n",
    "    \n",
    "    "
   ]
  },
  {
   "cell_type": "markdown",
   "metadata": {},
   "source": [
    "--------\n",
    "\n",
    "First get a hold of the input data."
   ]
  },
  {
   "cell_type": "code",
   "execution_count": null,
   "metadata": {},
   "outputs": [],
   "source": []
  },
  {
   "cell_type": "code",
   "execution_count": 2,
   "metadata": {},
   "outputs": [],
   "source": [
    "import numpy as np\n",
    "import pandas as pd\n",
    "import matplotlib.pyplot as plt"
   ]
  },
  {
   "cell_type": "code",
   "execution_count": 3,
   "metadata": {},
   "outputs": [],
   "source": [
    "# Define some dictionary maps.\n",
    "aminoToNumber = {\"ALA\":0, \"ARG\":1, \"ASN\":2, \"ASP\":3, \"CYS\":4, \"GLN\":5, \"GLU\":6, \"GLY\":7, \"HIS\":8, \"ILE\":9, \"LEU\":10, \"LYS\":11, \"MET\":12, \"PHE\":13, \"PRO\":14, \"SER\":15, \"THR\":16, \"TRP\":17, \"TYR\":18, \"VAL\":19}\n",
    "shortAminoToNumber = {\"A\":0, \"R\":1, \"N\":2, \"D\":3, \"C\":4, \"Q\":5, \"E\":6, \"G\":7, \"H\":8, \"I\":9, \"L\":10, \"K\":11, \"M\":12, \"F\":13, \"P\":14, \"S\":15, \"T\":16, \"W\":17, \"Y\":18, \"V\":19}\n",
    "SStoNumber = {\"Helix\":0, \"Beta\":1, \"Coil\":2, \"Other\":2}\n",
    "shortSStoNumber = {\"H\":0, \"E\":1, \"C\":2}\n",
    "numberToStringSS = {0:\"H\", 1:\"E\", 2:\"C\"}"
   ]
  },
  {
   "cell_type": "code",
   "execution_count": 4,
   "metadata": {},
   "outputs": [],
   "source": [
    "def createDataset(dataSet = \"dssp\"):\n",
    "    # MODIFIED sequence 1fsg in stride data set!\n",
    "    df = pd.read_csv(\"inputData/\"+dataSet+\"_info.txt\", sep=\"\\t\", header=None, names=[\"PDB_code\", \"PDB_chain_code\", \"PDB_seq_code\", \"residue_name\", \"SS\"])\n",
    "    df['residue_name'] = pd.to_numeric( df['residue_name'].map(aminoToNumber).fillna(-1), downcast='signed')# Fill non matching (aka the not standard amino acids) = -1\n",
    "    df[\"SS\"] = pd.to_numeric( df[\"SS\"].map(SStoNumber), downcast=\"signed\")\n",
    "    \n",
    "    grouped = df.groupby([\"PDB_code\",\"PDB_chain_code\"], sort=False)\n",
    "\n",
    "    proteinDict = {}\n",
    "    for (proteinCode, chainCode), proteinData in grouped:\n",
    "        rPosition = proteinData[\"PDB_seq_code\"].values\n",
    "        skipped = np.diff(rPosition)-1\n",
    "        hasSkipped = np.sum(skipped)!=0\n",
    "        \n",
    "        sequence = proteinData[\"residue_name\"].values\n",
    "        SS = proteinData[\"SS\"].values\n",
    "        \n",
    "        if hasSkipped:\n",
    "            indexesSkipped = np.where(skipped!=0)[0]\n",
    "            SS = proteinData[\"SS\"].values\n",
    "        \n",
    "            # Add -1's on the places where it skipped.\n",
    "            # Add these seperately add these first seperatatly in a tuple, to not mess up the counting.\n",
    "            newSequence = () \n",
    "            newSS = ()\n",
    "            \n",
    "            previousIndex = 0\n",
    "            for index in indexesSkipped:\n",
    "                newSequence += (sequence[previousIndex:(index+1)],) # Add the section between the skipped area's\n",
    "                newSS += (SS[previousIndex:(index+1)],) # Add +1 since the coordinat where the skips happens is still part of the previous section before the skip.\n",
    "                numberSkipped = skipped[index]\n",
    "                \n",
    "                newSequence += (-np.ones(numberSkipped if numberSkipped<8 else 8) ,) # Add the -1's\n",
    "                newSS += (-np.ones(numberSkipped if numberSkipped<8 else 8) ,)\n",
    "                previousIndex = index+1\n",
    "                \n",
    "            newSequence += (sequence[previousIndex:],)\n",
    "            newSS += (SS[previousIndex:],)\n",
    "            \n",
    "            sequence = np.concatenate(newSequence)\n",
    "            SS = np.concatenate(newSS)\n",
    "            \n",
    "        proteinDict[proteinCode+\"_\"+chainCode] = (sequence, SS)\n",
    "    \n",
    "    return proteinDict"
   ]
  },
  {
   "cell_type": "code",
   "execution_count": 16,
   "metadata": {},
   "outputs": [],
   "source": [
    "# create the data sets:\n",
    "dataDssp = createDataset()\n",
    "dfProtFam = pd.read_csv(\"inputData/cath_info.txt\",sep=\"\\t\", header=None, names=[\"PDB_code\", \"PDB_chain_code\",\"protein_family\"])"
   ]
  },
  {
   "cell_type": "code",
   "execution_count": 36,
   "metadata": {},
   "outputs": [],
   "source": [
    "# Remove entries of \"None\"\n",
    "# Remove the invalid proteins from the dictionary\n",
    "dfProtFam_grouped= dfProtFam.groupby([\"PDB_code\",\"PDB_chain_code\"], sort=False)\n",
    "for (PDB_code, Chain_code), dataFrame in dfProtFam_grouped:\n",
    "    ProtFam = dataFrame[\"protein_family\"].values[0]\n",
    "    if ProtFam ==\"None\":\n",
    "        key = PDB_code+\"_\"+Chain_code\n",
    "        del dataDssp[key]\n",
    "# Remove the invalid proteins from the protFam dataframe\n",
    "dfProtFam = dfProtFam[dfProtFam.protein_family != \"None\"]"
   ]
  },
  {
   "cell_type": "markdown",
   "metadata": {},
   "source": [
    "--------\n",
    "Next we need to extract features from the SS that we think can help in discriminating between the classes."
   ]
  },
  {
   "cell_type": "code",
   "execution_count": 35,
   "metadata": {},
   "outputs": [
    {
     "name": "stdout",
     "output_type": "stream",
     "text": [
      "Total = 492\n",
      "Number Alpha = 132 = 26.83%\n",
      "Number Beta = 100 = 20.33%\n",
      "Number Alpha/beta = 260 = 52.85%\n"
     ]
    }
   ],
   "source": [
    "# Create a target vector that the classifier needs to assign:\n",
    "classDictionary = {\"Alpha\":0, \"Beta\":1, \"Alpha/beta\":2}\n",
    "target = pd.to_numeric( dfProtFam[\"protein_family\"].map(classDictionary), downcast=\"signed\").values.astype(int)\n",
    "N = len(target)\n",
    "_, counts = np.unique(target,return_counts=True)\n",
    "print(f\"Total = {N}\")\n",
    "print(f\"Number Alpha = {counts[0]} = {np.round(counts[0]/N*100,2)}%\")\n",
    "print(f\"Number Beta = {counts[1]} = {np.round(counts[1]/N*100,2)}%\")\n",
    "print(f\"Number Alpha/beta = {counts[2]} = {np.round(counts[2]/N*100,2)}%\")"
   ]
  },
  {
   "cell_type": "markdown",
   "metadata": {},
   "source": [
    "We see that there is a class inbalance. But we should be carefull. What we for instance could do is subsample the \"Alpha/beta\" class to 115, to balance things more out.\n",
    "\n",
    "\n",
    "Create a feature extracter.\n",
    "important is that our features should not be largely depended on the sequence length. \n",
    "For example it cannot be count number of helix patches. -> Since this is clearly biased towards longer sequences."
   ]
  },
  {
   "cell_type": "code",
   "execution_count": 66,
   "metadata": {},
   "outputs": [],
   "source": [
    "def featVect(SS):\n",
    "    \"\"\" Return the feature vector from a given SS\"\"\"\n",
    "    numberFeatures = 9\n",
    "    featVect = -np.ones(9)\n",
    "    # features is simply the percentage of each SS.\n",
    "    featVect[0:3] = np.sum((SS==0,SS==1,SS==2),axis=1)/len(SS)\n",
    "    # Average length of each SS. \n",
    "    lengthsRegionSS = (lengthSSRegion(SS,0),lengthSSRegion(SS,1),lengthSSRegion(SS,2))\n",
    "    for i, lengthSS in enumerate(lengthsRegionSS):\n",
    "        featVect[i+3] = np.mean(lengthSS)\n",
    "    # the longest length of each SS.\n",
    "    for i, lengthSS in enumerate(lengthsRegionSS):\n",
    "        featVect[i+6] = np.max(lengthSS)\n",
    "    return featVect"
   ]
  },
  {
   "cell_type": "code",
   "execution_count": 76,
   "metadata": {},
   "outputs": [],
   "source": [
    "featureNames = [\"perc.H\",\"perc.E\",\"perc.C\",\n",
    "                \"avgLen H\",\"avgLen E\",\"avgLen C\",\n",
    "                \"maxLen H\",\"maxLen E\",\"maxLen C\"]"
   ]
  },
  {
   "cell_type": "code",
   "execution_count": 63,
   "metadata": {},
   "outputs": [],
   "source": [
    "def lengthSSRegion(SSarray,SS):\n",
    "    \"\"\"Returns the length of the SS regions\"\"\"\n",
    "    lengths = []\n",
    "    isInRegion = False\n",
    "    count = 0\n",
    "    for ss in SSarray:\n",
    "        if ss==SS:# We are still in the region or we just started with one.\n",
    "            count+=1\n",
    "            isInRegion=True\n",
    "        elif ss!=SS and isInRegion==True:# Aka it stopped\n",
    "            isInRegion= False\n",
    "            lengths.append(count)\n",
    "            count=0\n",
    "    if isInRegion: # If the for loop ended with still a region store it\n",
    "        lengths.append(count)\n",
    "    if len(lengths)==0: # Return a 0 in the case the \n",
    "        lengths.append(0)\n",
    "    return lengths"
   ]
  },
  {
   "cell_type": "code",
   "execution_count": 71,
   "metadata": {},
   "outputs": [],
   "source": [
    "# Extract features from the SS array:\n",
    "def featVectFromDict(dictionary):\n",
    "    \"\"\" Returns the feature Vector from the dictionary dataset\"\"\"\n",
    "    numbProteins = len(dictionary)\n",
    "    for i, (protName, (seq, SS)) in enumerate(dictionary.items()):\n",
    "        if i==0:\n",
    "            featV = featVect(SS)\n",
    "            numbFeatures = len(featV)\n",
    "            featureVectors = np.zeros((numbProteins,numbFeatures))\n",
    "        featureVectors[i] = featVect(SS)\n",
    "    return featureVectors\n",
    "featureVectors = featVectFromDict(dataDssp)"
   ]
  },
  {
   "cell_type": "markdown",
   "metadata": {},
   "source": [
    "### Use sci-kit learn module to have for the estimators and train it. "
   ]
  },
  {
   "cell_type": "code",
   "execution_count": 143,
   "metadata": {},
   "outputs": [],
   "source": [
    "from sklearn import metrics\n",
    "from sklearn import preprocessing\n",
    "from sklearn.pipeline import make_pipeline\n",
    "from sklearn.model_selection import train_test_split\n",
    "from sklearn.tree import DecisionTreeClassifier\n",
    "from sklearn.model_selection import cross_validate"
   ]
  },
  {
   "cell_type": "markdown",
   "metadata": {},
   "source": [
    "for this we are going to follow the workflow of standard sci-kit learn. "
   ]
  },
  {
   "cell_type": "code",
   "execution_count": 115,
   "metadata": {},
   "outputs": [
    {
     "data": {
      "text/plain": [
       "Pipeline(memory=None,\n",
       "         steps=[('decisiontreeclassifier',\n",
       "                 DecisionTreeClassifier(ccp_alpha=0.0, class_weight=None,\n",
       "                                        criterion='gini', max_depth=None,\n",
       "                                        max_features=None, max_leaf_nodes=None,\n",
       "                                        min_impurity_decrease=0.0,\n",
       "                                        min_impurity_split=None,\n",
       "                                        min_samples_leaf=1, min_samples_split=2,\n",
       "                                        min_weight_fraction_leaf=0.0,\n",
       "                                        presort='deprecated', random_state=0,\n",
       "                                        splitter='best'))],\n",
       "         verbose=False)"
      ]
     },
     "execution_count": 115,
     "metadata": {},
     "output_type": "execute_result"
    }
   ],
   "source": [
    "# Create a pipeline of preprocessing and classifiers\n",
    "\n",
    "pipe = make_pipeline(\n",
    "    DecisionTreeClassifier(random_state=0)\n",
    ")\n",
    "\n",
    "# Split the data in to test and train.\n",
    "X_train, X_test, y_train, y_test = train_test_split(featureVectors, target, train_size=0.75, random_state=0)\n",
    "\n",
    "# Fit the classifier: on the train data.\n",
    "pipe.fit(X_train, y_train)"
   ]
  },
  {
   "cell_type": "markdown",
   "metadata": {},
   "source": [
    "Examine the fit result of:"
   ]
  },
  {
   "cell_type": "code",
   "execution_count": 116,
   "metadata": {},
   "outputs": [],
   "source": [
    "y_test_predict = pipe.predict(X_test)"
   ]
  },
  {
   "cell_type": "markdown",
   "metadata": {},
   "source": [
    "The is accuarcy:"
   ]
  },
  {
   "cell_type": "code",
   "execution_count": 117,
   "metadata": {},
   "outputs": [
    {
     "name": "stdout",
     "output_type": "stream",
     "text": [
      "accuracy = 0.8455284552845529\n",
      "Confusion matrix = \n",
      "[[34  0  4]\n",
      " [ 0 23  6]\n",
      " [ 3  6 47]]\n",
      "Accuracy per class = [0.89473684 0.79310345 0.83928571]\n"
     ]
    }
   ],
   "source": [
    "accuracy = metrics.accuracy_score(y_test_predict, y_test)\n",
    "cm = metrics.confusion_matrix(y_test, y_test_predict)\n",
    "normalisedCM = cm.astype('float') / cm.sum(axis=1)[:, np.newaxis] #https://stackoverflow.com/questions/39770376/scikit-learn-get-accuracy-scores-for-each-class\n",
    "print(f\"accuracy = {accuracy}\")\n",
    "print(f\"Confusion matrix = \\n{cm}\")\n",
    "print(f\"Accuracy per class = {normalisedCM.diagonal()}\")"
   ]
  },
  {
   "cell_type": "markdown",
   "metadata": {},
   "source": [
    "We see that ther is no confusion between the \"Alpha\" and \"Beta\" protein family, but there is confusion with the \"Alpha/beta\" family. Most often it is confused with the \"Beta\" Family. "
   ]
  },
  {
   "cell_type": "markdown",
   "metadata": {},
   "source": [
    "Another handy score to look at is the F1 score.\n",
    "\n",
    "the F1 score both takes into account the precision and recall. And is a more robust measure then accuracy in low number cases."
   ]
  },
  {
   "cell_type": "code",
   "execution_count": 118,
   "metadata": {},
   "outputs": [
    {
     "name": "stdout",
     "output_type": "stream",
     "text": [
      "F1 Score per class = [0.90666667 0.79310345 0.83185841]\n"
     ]
    }
   ],
   "source": [
    "f1Score =metrics.f1_score(pipe.predict(X_test), y_test,average=None)\n",
    "print(f\"F1 Score per class = {f1Score}\")"
   ]
  },
  {
   "cell_type": "markdown",
   "metadata": {},
   "source": [
    "-----"
   ]
  },
  {
   "cell_type": "markdown",
   "metadata": {},
   "source": [
    "So we see that we have pretty good accuracy and F1 score, but ofcourse we need to see how it performs on the SS ofter the GOR 3 algorithm."
   ]
  },
  {
   "cell_type": "code",
   "execution_count": 121,
   "metadata": {},
   "outputs": [],
   "source": [
    "def predictSS(protSequence, freq, logDiff, logDiffRj):\n",
    "    \"\"\"\n",
    "    Input:\n",
    "        - protSequence : 1D-numpy array, Represents the proteins sequence, where the aminoacids are labeled as integers from 0 to 19\n",
    "        - freq : 4D-numpy array shape = (3,17,20,20) representing the frequency count of the data set.\n",
    "            - axis0 = Secundary structure\n",
    "            - axis1 = relative position m from the window center positioned at j in the protein sequence\n",
    "            - axis2 = amino Acid at the position m. = R_{j+m}\n",
    "            - axis3 = amino Acid at the centre. = R_j\n",
    "        - logDiff: 1D-numpy array of length 3. This is the logarithm of the relative SS structure count: log(f_s/f_{not_s})\n",
    "        - logDiffRj: 2D-numpy array of shape (3,20). This is the logarithm of the relative SS structure count per amino accid: log(f_{s,R}/f_{not_s,R})\n",
    "        - SStrue\n",
    "        - dealWithInvalidResidue\n",
    "    Output:\n",
    "        - SS_result: 1D-numpy array with the predicted SS of the protein sequence\n",
    "        - ISS: 2D-numpy array with the information per SS per amino accid in the protein sequence.\n",
    "        \n",
    "    \"\"\"\n",
    "    # Add 8 \"-1\"'s at the beginning and end of the protein sequence. \n",
    "    # This is done such that we can have running window of lenght 8 at each side at the edges of the protein sequences. \n",
    "    # Use -1 since we offcourse vieuw these as invalid entries.\n",
    "    paddedSequence = np.concatenate((-np.ones(8),protSequence,-np.ones(8))).astype(int)\n",
    "    SeqLen = len(protSequence)\n",
    "    otherSS = np.array([[1,2],[0,2],[0,1]]) # Have the index of the other Secundary Structure such that we can sum of the other SS\n",
    "    \n",
    "    # Construct the output value ISS\n",
    "    ISS = -np.ones(shape=(3,SeqLen)) # use -1 to later on detect invalid entries in the protein sequence.\n",
    "    \n",
    "    for j, r_j in enumerate(paddedSequence):\n",
    "        if j-8 > SeqLen: # We have reached the end.\n",
    "            break\n",
    "        if r_j<0: # We skip over invalid entries. (These are the padded edges and invalid entries)\n",
    "            continue\n",
    "        # r_j is valid so set the ISS level equalt to zero. Unvalid r_j are kept -1\n",
    "        ISS[:,j-8] = np.zeros(3)             \n",
    "        for SS in range(3):\n",
    "            for m, r_jm in enumerate(paddedSequence[j-8:j+9]): # m in [0,16],\n",
    "                if r_jm<0:\n",
    "                    continue\n",
    "                # Compute the logSum\n",
    "                ISS[SS,j-8] += np.log(freq[SS,m,r_jm,r_j]/np.sum(freq[otherSS[SS],m,r_jm,r_j]))\n",
    "                if m==8: \n",
    "                    ISS[SS,j-8] += logDiff[SS]\n",
    "                else:\n",
    "                    ISS[SS,j-8] += logDiffRj[SS,r_j]\n",
    "\n",
    "    SS_result = np.argmax(ISS,axis=0)\n",
    "    SS_result[protSequence<0] = -1 # Let the invalid protein sequences stay flagged as invalid.\n",
    "    return SS_result, ISS"
   ]
  },
  {
   "cell_type": "code",
   "execution_count": 122,
   "metadata": {},
   "outputs": [],
   "source": [
    "def freqTableOfProtein(protSequence,SS):\n",
    "    \"\"\"\n",
    "    Input:\n",
    "        - protSequence : 1D-numpy array, Represents the proteins sequence, where the aminoacids are labeled as integers from 0 to 19\n",
    "        - SS : 1D-numpy array holding the know secundary structure of the \n",
    "    Output:\n",
    "    - freq : 4D-numpy array shape = (3,17,20,20) representing the frequency count of the protein sequence.\n",
    "            - axis0 = Secundary structure\n",
    "            - axis1 = relative position m from the window center positioned at j in the protein sequence\n",
    "            - axis2 = amino Acid at the position m. = R_{j+m}\n",
    "            - axis3 = amino Acid at the centre. = R_j\n",
    "    - countSS : returns the total counts of each type of secundary structure in the sequence\n",
    "    - coutSSperR: return the count of each type of secundary structure per amino acid.\n",
    "    \"\"\"\n",
    "    freqTable = np.zeros(shape=(3,17,20,20))\n",
    "    \n",
    "    # Pad the sequence with 8 -1's before and after such that we can easily perform move a window around. \n",
    "    paddedSequence = np.concatenate((-np.ones(8),protSequence,-np.ones(8))).astype(int)\n",
    "    paddedSS = np.concatenate((-np.ones(8),SS,-np.ones(8))).astype(int)\n",
    "    \n",
    "    seqLen = len(protSequence)\n",
    "    \n",
    "    \n",
    "    #Fill freqTable\n",
    "    for j, (r_j, S_j) in enumerate(zip(paddedSequence,paddedSS)):      \n",
    "        if (j-8) > seqLen: # We have reached the end.\n",
    "            #print(f\"ends at  j= {j}\")\n",
    "            break    \n",
    "        if r_j<0: # We skip over invalid entries. (These are the padded edges and invalid entries)\n",
    "            #print(f\"j={j}, r_j={r_j}\")\n",
    "            continue\n",
    "        #print(f\"j={j}, r_j={r_j}\")\n",
    "        for m in np.arange(-8,9):#  m=[-8,...,8]\n",
    "            r_jm = paddedSequence[j+m]\n",
    "            #print(f\"j={j}, r_j={r_j}, m={m}, r_jm = {r_jm}\")\n",
    "            if r_jm<0:\n",
    "                continue\n",
    "            #print(f\"j={j}, r_j={r_j}, m={m}, r_jm = {r_jm} AFTER\")\n",
    "            freqTable[S_j,m+8,r_jm,r_j]+=1\n",
    "            \n",
    "    middleTable = freqTable[:,8] # take all the freq counts on m=0. \n",
    "    countSSperR = np.copy(middleTable.diagonal(axis1=-1,axis2=-2)) # Extract the diagonal\n",
    "    countSS = np.copy(np.sum(countSSperR,axis=-1))\n",
    "    \n",
    "    return freqTable, countSS, countSSperR"
   ]
  },
  {
   "cell_type": "code",
   "execution_count": 124,
   "metadata": {},
   "outputs": [],
   "source": [
    "def createDataset(dataSet = \"dssp\"):\n",
    "    # MODIFIED sequence 1fsg in stride data set!\n",
    "    df = pd.read_csv(\"inputData/\"+dataSet+\"_info.txt\", sep=\"\\t\", header=None, names=[\"PDB_code\", \"PDB_chain_code\", \"PDB_seq_code\", \"residue_name\", \"SS\"])\n",
    "    df['residue_name'] = pd.to_numeric( df['residue_name'].map(aminoToNumber).fillna(-1), downcast='signed')# Fill non matching (aka the not standard amino acids) = -1\n",
    "    df[\"SS\"] = pd.to_numeric( df[\"SS\"].map(SStoNumber), downcast=\"signed\")\n",
    "\n",
    "    grouped = df.groupby([\"PDB_code\",\"PDB_chain_code\"], sort=False)\n",
    "\n",
    "    proteinDict = {}\n",
    "    for (proteinCode, chainCode), proteinData in grouped:\n",
    "        rPosition = proteinData[\"PDB_seq_code\"].values\n",
    "        skipped = np.diff(rPosition)-1\n",
    "        hasSkipped = np.sum(skipped)!=0\n",
    "        \n",
    "        sequence = proteinData[\"residue_name\"].values\n",
    "        SS = proteinData[\"SS\"].values\n",
    "        \n",
    "        if hasSkipped:\n",
    "            indexesSkipped = np.where(skipped!=0)[0]\n",
    "            SS = proteinData[\"SS\"].values\n",
    "        \n",
    "            # Add -1's on the places where it skipped.\n",
    "            # Add these seperately add these first seperatatly in a tuple, to not mess up the counting.\n",
    "            newSequence = () \n",
    "            newSS = ()\n",
    "            \n",
    "            previousIndex = 0\n",
    "            for index in indexesSkipped:\n",
    "                newSequence += (sequence[previousIndex:(index+1)],) # Add the section between the skipped area's\n",
    "                newSS += (SS[previousIndex:(index+1)],) # Add +1 since the coordinat where the skips happens is still part of the previous section before the skip.\n",
    "                numberSkipped = skipped[index]\n",
    "                \n",
    "                newSequence += (-np.ones(numberSkipped if numberSkipped<8 else 8) ,) # Add the -1's\n",
    "                newSS += (-np.ones(numberSkipped if numberSkipped<8 else 8) ,)\n",
    "                previousIndex = index+1\n",
    "                \n",
    "            newSequence += (sequence[previousIndex:],)\n",
    "            newSS += (SS[previousIndex:],)\n",
    "            \n",
    "            sequence = np.concatenate(newSequence)\n",
    "            SS = np.concatenate(newSS)\n",
    "            \n",
    "        proteinDict[proteinCode+\"_\"+chainCode] = (sequence, SS)\n",
    "    \n",
    "    return proteinDict\n",
    "#dsspDictionary = createDataset()"
   ]
  },
  {
   "cell_type": "code",
   "execution_count": 127,
   "metadata": {},
   "outputs": [],
   "source": [
    "totalFreqTable = np.zeros(shape=(3,17,20,20))\n",
    "totalCountSS = np.zeros(3)\n",
    "totalCountSSperR = np.zeros(shape=(3,20))\n",
    "otherSS = np.array([[1,2],[0,2],[0,1]])    \n",
    "\n",
    "proteinDictionary = createDataset(dataSet = \"dssp\")\n",
    "    \n",
    "#First compute the full freqTable\n",
    "for key, (proteinSequence, trueSS) in proteinDictionary.items():\n",
    "    freqTableFromProt, countSSFromProt, countSSperRFromProt = freqTableOfProtein(proteinSequence, trueSS)\n",
    "    totalFreqTable += freqTableFromProt\n",
    "    totalCountSS += countSSFromProt\n",
    "    totalCountSSperR += countSSperRFromProt\n",
    "\n",
    "totalLog = np.log(np.sum(totalCountSS[otherSS],axis=-1)/totalCountSS)\n",
    "totalLogRj = np.log(np.sum(totalCountSSperR[otherSS],axis=-2)/totalCountSSperR)\n",
    "totalFreqTable[totalFreqTable==0] = 0.00001"
   ]
  },
  {
   "cell_type": "markdown",
   "metadata": {},
   "source": [
    "Create the data set but now with the SS predicted by GOR algorithm"
   ]
  },
  {
   "cell_type": "code",
   "execution_count": 130,
   "metadata": {},
   "outputs": [],
   "source": [
    "# Create the data set based on GOR algorihtm\n",
    "dataDsspGOR = {}\n",
    "for key, (protSeq, trueSS) in dataDssp.items():\n",
    "    SSGor, _ = predictSS(protSeq, totalFreqTable, totalLog, totalLogRj)\n",
    "    dataDsspGOR[key] = (protSeq, SSGor)"
   ]
  },
  {
   "cell_type": "markdown",
   "metadata": {},
   "source": [
    "Extract again the features."
   ]
  },
  {
   "cell_type": "code",
   "execution_count": 135,
   "metadata": {},
   "outputs": [],
   "source": [
    "featVectGOR = featVectFromDict(dataDsspGOR)"
   ]
  },
  {
   "cell_type": "code",
   "execution_count": 137,
   "metadata": {},
   "outputs": [],
   "source": [
    "_, X_testGOR, _, _ = train_test_split(featVectGOR, target, train_size=0.75, random_state=0)"
   ]
  },
  {
   "cell_type": "markdown",
   "metadata": {},
   "source": [
    "And predict it with our trained tree and see how it performs now on data that came out of the GOR. We first test on the entries on which the tree was not trained. For this we split the featVectGOR in the same fashion by providing the same seed = 0"
   ]
  },
  {
   "cell_type": "code",
   "execution_count": 138,
   "metadata": {},
   "outputs": [],
   "source": [
    "y_predictGOR = pipe.predict(X_testGOR)"
   ]
  },
  {
   "cell_type": "code",
   "execution_count": 139,
   "metadata": {},
   "outputs": [
    {
     "name": "stdout",
     "output_type": "stream",
     "text": [
      "accuracy = 0.5528455284552846\n",
      "Confusion matrix = \n",
      "[[31  1  6]\n",
      " [ 2  5 22]\n",
      " [21  3 32]]\n",
      "Accuracy per class = [0.81578947 0.17241379 0.57142857]\n",
      "F1 Score per class = [0.67391304 0.26315789 0.55172414]\n"
     ]
    }
   ],
   "source": [
    "accuracy = metrics.accuracy_score(y_predictGOR, y_test)\n",
    "cm = metrics.confusion_matrix(y_test, y_predictGOR)\n",
    "normalisedCM = cm.astype('float') / cm.sum(axis=1)[:, np.newaxis] #https://stackoverflow.com/questions/39770376/scikit-learn-get-accuracy-scores-for-each-class\n",
    "f1Score =metrics.f1_score(y_predictGOR, y_test,average=None)\n",
    "print(f\"accuracy = {accuracy}\")\n",
    "print(f\"Confusion matrix = \\n{cm}\")\n",
    "print(f\"Accuracy per class = {normalisedCM.diagonal()}\")\n",
    "print(f\"F1 Score per class = {f1Score}\")"
   ]
  },
  {
   "cell_type": "markdown",
   "metadata": {},
   "source": [
    "Actually I am suprised on how somewhat decent this result is. \n",
    "\n",
    "If the real one is Helix, it acutaually often predicts it correctly. \n",
    "If the real on however is Beta -> It then gets missclassified alot. \n",
    "It seems to comes from the origin that the our GOR algorithm for some reason really likes Helixes. \n",
    "And hence introduces them where they should not be. This could explain the results above;"
   ]
  },
  {
   "cell_type": "markdown",
   "metadata": {},
   "source": [
    "Lets make a new pipe line like above but now directly train our method on the GOR data see if that could improve the prediction results."
   ]
  },
  {
   "cell_type": "code",
   "execution_count": 115,
   "metadata": {},
   "outputs": [
    {
     "data": {
      "text/plain": [
       "Pipeline(memory=None,\n",
       "         steps=[('decisiontreeclassifier',\n",
       "                 DecisionTreeClassifier(ccp_alpha=0.0, class_weight=None,\n",
       "                                        criterion='gini', max_depth=None,\n",
       "                                        max_features=None, max_leaf_nodes=None,\n",
       "                                        min_impurity_decrease=0.0,\n",
       "                                        min_impurity_split=None,\n",
       "                                        min_samples_leaf=1, min_samples_split=2,\n",
       "                                        min_weight_fraction_leaf=0.0,\n",
       "                                        presort='deprecated', random_state=0,\n",
       "                                        splitter='best'))],\n",
       "         verbose=False)"
      ]
     },
     "execution_count": 115,
     "metadata": {},
     "output_type": "execute_result"
    }
   ],
   "source": [
    "# Create a pipeline of preprocessing and classifiers\n",
    "\n",
    "pipe = make_pipeline(\n",
    "    DecisionTreeClassifier(random_state=0)\n",
    ")\n",
    "\n",
    "# Split the data in to test and train.\n",
    "X_train, X_test, y_train, y_test = train_test_split(featureVectors, target, train_size=0.75, random_state=0)\n",
    "\n",
    "# Fit the classifier: on the train data.\n",
    "pipe.fit(X_train, y_train)"
   ]
  },
  {
   "cell_type": "code",
   "execution_count": 260,
   "metadata": {},
   "outputs": [],
   "source": [
    "pipe2 =  make_pipeline(\n",
    "    preprocessing.StandardScaler(),\n",
    "    DecisionTreeClassifier(\n",
    "        max_depth = 5,\n",
    "        random_state=0)\n",
    ")\n",
    "\n",
    "# This time do a cross validation\n",
    "results = cross_validate(pipe2, featVectGOR ,target,\n",
    "                        cv= 5,\n",
    "                        scoring=\"accuracy\")"
   ]
  },
  {
   "cell_type": "markdown",
   "metadata": {},
   "source": [
    "results:"
   ]
  },
  {
   "cell_type": "code",
   "execution_count": 261,
   "metadata": {},
   "outputs": [
    {
     "name": "stdout",
     "output_type": "stream",
     "text": [
      "accuracy CV = [0.68686869 0.71717172 0.64285714 0.78571429 0.69387755]\n",
      "mean accuracy CV = 0.7052978767264481\n"
     ]
    }
   ],
   "source": [
    "print(f'accuracy CV = {results[\"test_score\"]}')\n",
    "print(f'mean accuracy CV = {np.mean(results[\"test_score\"])}')"
   ]
  },
  {
   "cell_type": "markdown",
   "metadata": {},
   "source": [
    "We see that we are able to get accuracies of $\\pm$ 74%, Which is higher then if we had trained on the trueSS.\n",
    "\n",
    "So it seems that the Tree indeed did learn from the GOR algorithm. \n",
    "\n",
    "This example here is not perfectly isolated. Since the test data was achieved with the GOR algorithm that saw all the data. To be 100% correct one actually needs for fold redefine the table. Recompute the SS with now the frequency table that has not seen those proteins."
   ]
  },
  {
   "cell_type": "code",
   "execution_count": 262,
   "metadata": {},
   "outputs": [
    {
     "data": {
      "text/plain": [
       "Pipeline(memory=None,\n",
       "         steps=[('standardscaler',\n",
       "                 StandardScaler(copy=True, with_mean=True, with_std=True)),\n",
       "                ('decisiontreeclassifier',\n",
       "                 DecisionTreeClassifier(ccp_alpha=0.0, class_weight=None,\n",
       "                                        criterion='gini', max_depth=5,\n",
       "                                        max_features=None, max_leaf_nodes=None,\n",
       "                                        min_impurity_decrease=0.0,\n",
       "                                        min_impurity_split=None,\n",
       "                                        min_samples_leaf=1, min_samples_split=2,\n",
       "                                        min_weight_fraction_leaf=0.0,\n",
       "                                        presort='deprecated', random_state=0,\n",
       "                                        splitter='best'))],\n",
       "         verbose=False)"
      ]
     },
     "execution_count": 262,
     "metadata": {},
     "output_type": "execute_result"
    }
   ],
   "source": [
    "# Lets also again see the confusion matrix:\n",
    "X_trainGOR, X_testGOR, y_trainGOR, y_testGOR = train_test_split(featVectGOR, target, train_size=0.75, random_state=0)\n",
    "\n",
    "# Fit the classifier: on the train data.\n",
    "pipe2.fit(X_trainGOR, y_trainGOR)"
   ]
  },
  {
   "cell_type": "code",
   "execution_count": 263,
   "metadata": {},
   "outputs": [
    {
     "name": "stdout",
     "output_type": "stream",
     "text": [
      "accuracy = 0.7073170731707317\n",
      "Confusion matrix = \n",
      "[[31  1  6]\n",
      " [ 3 15 11]\n",
      " [ 7  8 41]]\n",
      "Accuracy per class = [0.81578947 0.51724138 0.73214286]\n",
      "F1 Score per class = [0.78481013 0.56603774 0.71929825]\n"
     ]
    }
   ],
   "source": [
    "y_predictGOR = pipe2.predict(X_testGOR)\n",
    "\n",
    "accuracy = metrics.accuracy_score(y_predictGOR, y_testGOR)\n",
    "cm = metrics.confusion_matrix(y_testGOR, y_predictGOR)\n",
    "normalisedCM = cm.astype('float') / cm.sum(axis=1)[:, np.newaxis] #https://stackoverflow.com/questions/39770376/scikit-learn-get-accuracy-scores-for-each-class\n",
    "f1Score =metrics.f1_score(y_predictGOR, y_testGOR, average=None)\n",
    "print(f\"accuracy = {accuracy}\")\n",
    "print(f\"Confusion matrix = \\n{cm}\")\n",
    "print(f\"Accuracy per class = {normalisedCM.diagonal()}\")\n",
    "print(f\"F1 Score per class = {f1Score}\")"
   ]
  },
  {
   "cell_type": "markdown",
   "metadata": {},
   "source": [
    "We again see that it can handle the helix good, and the situation with the Sheets is much better now."
   ]
  },
  {
   "cell_type": "code",
   "execution_count": 205,
   "metadata": {},
   "outputs": [
    {
     "data": {
      "text/plain": [
       "array([0.26048106, 0.56914523, 0.        , 0.        , 0.06925793,\n",
       "       0.04925856, 0.        , 0.05185722, 0.        ])"
      ]
     },
     "execution_count": 205,
     "metadata": {},
     "output_type": "execute_result"
    }
   ],
   "source": [
    "pipe2.steps[1][1].feature_importances_"
   ]
  },
  {
   "cell_type": "markdown",
   "metadata": {},
   "source": [
    "We see that percentage of sheets is 40% of the importance of the feature"
   ]
  },
  {
   "cell_type": "markdown",
   "metadata": {},
   "source": [
    "---\n",
    "Find the right maximum depth."
   ]
  },
  {
   "cell_type": "code",
   "execution_count": 272,
   "metadata": {},
   "outputs": [],
   "source": [
    "maxDepth = np.arange(1,15)\n",
    "seeds = np.random.randint(50000,size=(len(maxDepth),15))\n",
    "Accurracy = np.zeros((len(maxDepth),seeds.shape[1],3))\n",
    "F1 = np.zeros((len(maxDepth),seeds.shape[1],3))\n",
    "\n",
    "for i, depth in enumerate(maxDepth):\n",
    "    for j, seed in enumerate(seeds[i]):\n",
    "        X_trainGOR, X_testGOR, y_trainGOR, y_testGOR = train_test_split(featVectGOR, target, train_size=0.75, random_state=seed)\n",
    "\n",
    "        pipeExplore =  make_pipeline(\n",
    "            preprocessing.StandardScaler(),\n",
    "            DecisionTreeClassifier(\n",
    "                max_depth = depth,\n",
    "            random_state=seed)\n",
    "        )\n",
    "        pipeExplore.fit(X_trainGOR, y_trainGOR)\n",
    "        y_predictGOR = pipeExplore.predict(X_testGOR)\n",
    "\n",
    "        cm = metrics.confusion_matrix(y_testGOR, y_predictGOR)\n",
    "        normalisedCM = cm.astype('float') / cm.sum(axis=1)[:, np.newaxis]\n",
    "        Accurracy[i,j] = normalisedCM.diagonal()\n",
    "        F1[i,j] = metrics.f1_score(y_predictGOR, y_testGOR, average=None)\n",
    "        \n",
    "avgAccuracy = np.mean(Accurracy,axis=1)\n",
    "avgF1 = np.mean(F1,axis=1)"
   ]
  },
  {
   "cell_type": "code",
   "execution_count": 273,
   "metadata": {},
   "outputs": [
    {
     "data": {
      "text/plain": [
       "Text(0.5, 0.98, 'Effect maximum tree depth')"
      ]
     },
     "execution_count": 273,
     "metadata": {},
     "output_type": "execute_result"
    },
    {
     "data": {
      "image/png": "[encoded data removed]",
      "text/plain": [
       "<Figure size 864x360 with 2 Axes>"
      ]
     },
     "metadata": {
      "needs_background": "light"
     },
     "output_type": "display_data"
    }
   ],
   "source": [
    "fig, (axAccu, axF1) = plt.subplots(nrows=1,ncols = 2 , sharey = True, figsize=(12,5))\n",
    "\n",
    "axAccu.plot(maxDepth, avgAccuracy[:,0], label=\"Acc. Helix\")\n",
    "axAccu.plot(maxDepth, avgAccuracy[:,1], label=\"Acc. Sheet\")\n",
    "axAccu.plot(maxDepth, avgAccuracy[:,2], label=\"Acc. Coil\")\n",
    "axAccu.plot(maxDepth, np.mean(avgAccuracy,axis=1), c=\"k\", ls=\"--\" ,label=\"avg. Acc.\")\n",
    "axAccu.legend()\n",
    "axAccu.set_title(\"Accuracy\",fontsize = 16)\n",
    "axAccu.set_xlabel(\"max Depth\",fontsize = 15)\n",
    "axAccu.set_ylabel(\"accuracy\",fontsize = 15)\n",
    "\n",
    "axF1.plot(maxDepth, avgF1[:,0], label=\"F1 Helix\")\n",
    "axF1.plot(maxDepth, avgF1[:,1], label=\"F1 Sheet\")\n",
    "axF1.plot(maxDepth, avgF1[:,2], label=\"F1 Coil\")\n",
    "axF1.plot(maxDepth, np.mean(avgF1,axis=1), c=\"k\", ls=\"--\" ,label=\"avg. F1\")\n",
    "axF1.legend()\n",
    "axF1.set_title(\"F1\",fontsize = 16)\n",
    "axF1.set_xlabel(\"max Depth\",fontsize = 15)\n",
    "axF1.set_ylabel(\"F1\",fontsize = 15)\n",
    "\n",
    "fig.suptitle(\"Effect maximum tree depth\", fontsize = 18)"
   ]
  },
  {
   "cell_type": "markdown",
   "metadata": {},
   "source": [
    "we so see a downwards trend for higher, max depth. We keep it at a 5 max depth of 5."
   ]
  },
  {
   "cell_type": "code",
   "execution_count": null,
   "metadata": {},
   "outputs": [],
   "source": []
  }
 ],
 "metadata": {
  "kernelspec": {
   "display_name": "Python 3",
   "language": "python",
   "name": "python3"
  },
  "language_info": {
   "codemirror_mode": {
    "name": "ipython",
    "version": 3
   },
   "file_extension": ".py",
   "mimetype": "text/x-python",
   "name": "python",
   "nbconvert_exporter": "python",
   "pygments_lexer": "ipython3",
   "version": "3.6.8"
  }
 },
 "nbformat": 4,
 "nbformat_minor": 4
}
