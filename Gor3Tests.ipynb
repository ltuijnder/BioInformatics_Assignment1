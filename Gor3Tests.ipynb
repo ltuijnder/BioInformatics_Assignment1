{
 "cells": [
  {
   "cell_type": "markdown",
   "metadata": {},
   "source": [
    "Test is a test notebook where I develop the GOR3 algorithm."
   ]
  },
  {
   "cell_type": "markdown",
   "metadata": {},
   "source": [
    "Things to do:\n",
    "\n",
    "- The first thing we should do is import the data and clean the data to make it ready for use. \n",
    "- Understand the GOR 3 Algorithm\n",
    "- Understand how we should deal with edges \n",
    "- Understand what we need to do with invalid entries and how we deal with it in algorithm\n",
    "- Understand how we should make it optimised leave-one-out. (don't recount everything with every new protein sequence).\n",
    "- How to summarise the results of the GOR3 (per data set)\n",
    "- How to summarise the results per protein family.\n"
   ]
  },
  {
   "cell_type": "code",
   "execution_count": null,
   "metadata": {},
   "outputs": [],
   "source": []
  }
 ],
 "metadata": {
  "kernelspec": {
   "display_name": "Python 3",
   "language": "python",
   "name": "python3"
  },
  "language_info": {
   "codemirror_mode": {
    "name": "ipython",
    "version": 3
   },
   "file_extension": ".py",
   "mimetype": "text/x-python",
   "name": "python",
   "nbconvert_exporter": "python",
   "pygments_lexer": "ipython3",
   "version": "3.6.8"
  }
 },
 "nbformat": 4,
 "nbformat_minor": 4
}
